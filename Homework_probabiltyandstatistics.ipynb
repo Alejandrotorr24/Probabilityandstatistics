{
 "cells": [
  {
   "cell_type": "markdown",
   "metadata": {},
   "source": [
    "## <font size=10&gt><font color=\"#000080\"><font face=\"Comic Sans MS,Arial,Verdana\">Homework \n",
    "\n",
    "# <font color=\"#000080\">Exercise 1 A Good First Program\n",
    "\n",
    "The first thing that this book show us is how to introduce text or \"outs\" in python code with the code \"Print\" \n",
    "\n"
   ]
  },
  {
   "cell_type": "markdown",
   "metadata": {},
   "source": [
    "print (\"Do you see the example?\")"
   ]
  },
  {
   "cell_type": "code",
   "execution_count": 3,
   "metadata": {},
   "outputs": [
    {
     "name": "stdout",
     "output_type": "stream",
     "text": [
      " *print* Is the way that you can introduce something in the code\n"
     ]
    }
   ],
   "source": [
    "print (\" *print* Is the way that you can introduce something in the code\")"
   ]
  },
  {
   "cell_type": "markdown",
   "metadata": {},
   "source": [
    "# <font color=\"#000080\">Exercise 2 Comments and Pound Characters\n",
    "Comments are very important in your programs. They are used to tell you what something does in\n",
    "English, and they are used to disable parts of your program if you need to remove them temporarily"
   ]
  },
  {
   "cell_type": "code",
   "execution_count": 1,
   "metadata": {},
   "outputs": [
    {
     "name": "stdout",
     "output_type": "stream",
     "text": [
      "This is part of the code\n"
     ]
    }
   ],
   "source": [
    "print (\"This is part of the code\") # And the program will not read this in the code"
   ]
  },
  {
   "cell_type": "code",
   "execution_count": null,
   "metadata": {},
   "outputs": [],
   "source": [
    "print (\"Is like a note that you can add in order to not make a mistakes\") # This is just a comment or something like that"
   ]
  },
  {
   "cell_type": "markdown",
   "metadata": {},
   "source": [
    "# <font color=\"Navy\">Exercise 3 Numbers and Math\n",
    "Every programming language has some kind of way of doing numbers and math.\n",
    "This exercise has lots of math symbols. Let’s name them right away so you know what they are called.\n",
    "As you type this one in, say the name. When saying them feels boring you can stop saying them. Here\n",
    "are the names:\n",
    "• + plus\n",
    "• - minus\n",
    "• / slash\n",
    "• * asterisk\n",
    "• % percent\n",
    "• < less-than\n",
    "• > greater-than\n",
    "• <= less-than-equal\n",
    "• >= greater-than-equal"
   ]
  },
  {
   "cell_type": "code",
   "execution_count": 3,
   "metadata": {},
   "outputs": [
    {
     "name": "stdout",
     "output_type": "stream",
     "text": [
      "In this exercise we gonna see some operations like additions, subtractions or divisions\n",
      "for exaple if you want the result of one adition as 3+4 you just to write the operation\n"
     ]
    },
    {
     "data": {
      "text/plain": [
       "7"
      ]
     },
     "execution_count": 3,
     "metadata": {},
     "output_type": "execute_result"
    }
   ],
   "source": [
    "print (\"In this exercise we gonna see some operations like additions, subtractions or divisions\")\n",
    "print (\"for exaple if you want the result of one adition as 3+4 you just to write the operation\")\n",
    "3+4"
   ]
  },
  {
   "cell_type": "markdown",
   "metadata": {},
   "source": [
    "Also you can do that of this way:"
   ]
  },
  {
   "cell_type": "code",
   "execution_count": 6,
   "metadata": {},
   "outputs": [
    {
     "name": "stdout",
     "output_type": "stream",
     "text": [
      "the result of 3+4 is: \n"
     ]
    },
    {
     "data": {
      "text/plain": [
       "7"
      ]
     },
     "execution_count": 6,
     "metadata": {},
     "output_type": "execute_result"
    }
   ],
   "source": [
    "print (\"the result of 3+4 is: \") \n",
    "3+4\n"
   ]
  },
  {
   "cell_type": "markdown",
   "metadata": {},
   "source": [
    "# <font color=\"#000080\">Exercice 4 Variables and Names\n",
    "Well the next step is to learn about variables. In\n",
    "programming, a variable is nothing more than a name for something, is like to give name to something.\n",
    "For example, if you want to give some value to \"x\" and another to \"y\" you must use variables, now we gonna give some values and make some operations to the values each other."
   ]
  },
  {
   "cell_type": "code",
   "execution_count": 9,
   "metadata": {},
   "outputs": [
    {
     "name": "stdout",
     "output_type": "stream",
     "text": [
      "so we can say that x+y is: 90 but x*y is: 1800\n",
      "and we can say by the same way that x is: 30 and y is: 60\n"
     ]
    }
   ],
   "source": [
    "x=30\n",
    "y=60 #we give value to x and y\n",
    "print (\"so we can say that x+y is:\", x+y, \"but x*y is:\", x*y,)\n",
    "print (\"and we can say by the same way that x is:\", x, \"and y is:\", y,)"
   ]
  },
  {
   "cell_type": "markdown",
   "metadata": {},
   "source": [
    "# <font color=\"#000080\">Exercise 5 More Variables and Printing\n",
    "Now we’ll do even more typing of variables and printing them out. This time we’ll use something called\n",
    "a ”format string.” Every time you put \" (double-quotes) around a piece of text you have been making a\n",
    "string. A string is how you make something that your program might give to a human. You print strings,\n",
    "save strings to files, send strings to web servers, and many other things."
   ]
  },
  {
   "cell_type": "markdown",
   "metadata": {},
   "source": [
    "You embed variables inside a string by using a special {} sequence and then put the\n",
    "variable you want inside the {} characters. You also must start the string with the letter f for ”format”,\n",
    "as in f\"Hello {somevar}\". This little f before the \" (double-quote) and the {} characters tell Python\n",
    "3, ”Hey, this string needs to be formatted. Put these variables in there.”\n",
    "As usual, just type this in even if you do not understand it, and make it exactly the same."
   ]
  },
  {
   "cell_type": "code",
   "execution_count": 15,
   "metadata": {},
   "outputs": [
    {
     "name": "stdout",
     "output_type": "stream",
     "text": [
      "in the greengrocer there is a quantity of\n",
      "20 oranges\n",
      "50 apples\n",
      "50 grapes\n",
      "30 melons\n",
      "so in total there are:  150  of things\n"
     ]
    }
   ],
   "source": [
    "oranges=20\n",
    "apples=50\n",
    "grapes=50\n",
    "melons=30\n",
    "print (\"in the greengrocer there is a quantity of\")\n",
    "print (f\"{oranges} oranges\")\n",
    "print (f\"{apples} apples\")\n",
    "print (f\"{grapes} grapes\")\n",
    "print (f\"{melons} melons\")\n",
    "print (\"so in total there are: \",oranges+apples+grapes+melons,\" of things\") #I dont think in another example jeje"
   ]
  },
  {
   "cell_type": "markdown",
   "metadata": {},
   "source": [
    "# <font color=\"#000080\">Exercise 6 Strings and Text\n",
    "A string is usually a bit of text you want to display to someone or ”export” out of the program you are\n",
    "writing."
   ]
  },
  {
   "cell_type": "markdown",
   "metadata": {},
   "source": [
    "Strings can contain any number of variables that are in your Python script. Remember that a variable is\n",
    "any line of code where you set a name = (equal) to a value."
   ]
  },
  {
   "cell_type": "code",
   "execution_count": 19,
   "metadata": {},
   "outputs": [
    {
     "name": "stdout",
     "output_type": "stream",
     "text": [
      "I killed 30 bunnys...\n",
      "I let 10 live\n",
      "I was hunting\n",
      "I killed 30 bunnys...I let 10 live\n"
     ]
    }
   ],
   "source": [
    "bunnys_alive=10\n",
    "bunnys_death=30\n",
    "x=f\"I killed {bunnys_death} bunnys...\"\n",
    "y=f\"I let {bunnys_alive} live\" \n",
    "\n",
    "print (x)\n",
    "print (y)\n",
    "print (\"I was hunting\")\n",
    "print(x + y)"
   ]
  },
  {
   "cell_type": "markdown",
   "metadata": {},
   "source": [
    "# <font color=\"#000080\">Exercie 7 More Printing\n",
    "Now we are going to do a bunch of exercises where you just type code in and make it run. I won’t be\n",
    "explaining this exercise because it is more of the same. The purpose is to build up your chops."
   ]
  },
  {
   "cell_type": "code",
   "execution_count": 24,
   "metadata": {},
   "outputs": [
    {
     "name": "stdout",
     "output_type": "stream",
     "text": [
      "Maybe programming is not so much funny\n",
      "But is interesting sometimes\n",
      "No No No No No \n",
      "but still boring \n",
      "try with this\n",
      "my name is Luis\n",
      "luis\n",
      "Yeah boring too\n"
     ]
    }
   ],
   "source": [
    "print (\"Maybe programming is not so much funny\")\n",
    "print (\"But is interesting sometimes\")\n",
    "print (\"No \" *5)#you can make things like this\n",
    "print (\"but still boring \")\n",
    "print(\"try with this\")\n",
    "a=\"my \"\n",
    "b=\"name \"\n",
    "c=\"is \"\n",
    "d=\"Luis\"\n",
    "print (a + b + c + d)\n",
    "#now by letters\n",
    "q=\"l\"\n",
    "w=\"u\"\n",
    "e=\"i\"\n",
    "r=\"s\"\n",
    "print (q + w + e + r)\n",
    "print (\"Yeah boring too\")"
   ]
  },
  {
   "cell_type": "markdown",
   "metadata": {},
   "source": [
    "# <font color=\"#000080\">Exercise 8 Printing, Printing\n",
    "We will now see how to do a more complicated formatting of a string. This code looks complex, but if\n",
    "you do your comments above each line and break each thing down to its parts, you’ll understand it."
   ]
  },
  {
   "cell_type": "code",
   "execution_count": 56,
   "metadata": {},
   "outputs": [
    {
     "name": "stdout",
     "output_type": "stream",
     "text": [
      "this is a code written in python 3 \n"
     ]
    }
   ],
   "source": [
    "\n",
    "chino = \"this is a code {}\"\n",
    "\n",
    "print(chino.format(\"written in python 3 \")) #the format works with \"{}\""
   ]
  },
  {
   "cell_type": "code",
   "execution_count": 59,
   "metadata": {},
   "outputs": [
    {
     "name": "stdout",
     "output_type": "stream",
     "text": [
      "My age is 19 years old\n"
     ]
    }
   ],
   "source": [
    "print(\"My age is {} years old\"\n",
    "     .format(19))"
   ]
  },
  {
   "cell_type": "markdown",
   "metadata": {},
   "source": [
    "In this exercise I’m using something called a ”function” to turn the formatter variable into other strings."
   ]
  },
  {
   "cell_type": "markdown",
   "metadata": {},
   "source": [
    "# <font color=\"#000080\">Exercise 9 Printing, Printing, Printing\n",
    "Well is the same thing that we saw in the last exercises but now with \\n that means a move down of cell or cells controls."
   ]
  },
  {
   "cell_type": "code",
   "execution_count": 64,
   "metadata": {},
   "outputs": [
    {
     "name": "stdout",
     "output_type": "stream",
     "text": [
      "There we have the colors: Yellow, Blue, Green, Red, Black, White, Brown, Pink, Purple\n",
      "And there we have the numbers \n",
      "1\n",
      "2\n",
      "3\n",
      "4\n",
      "5\n",
      "6\n",
      "7\n",
      "8\n",
      "9\n",
      " \n",
      "And this form we can write any thing\n",
      "in diferents spaces\n",
      "like this\n"
     ]
    }
   ],
   "source": [
    "colors= \"Yellow, Blue, Green, Red, Black, White, Brown, Pink, Purple\"\n",
    "Nums=\"\\n1\\n2\\n3\\n4\\n5\\n6\\n7\\n8\\n9\"\n",
    "print(\"There we have the colors:\",colors)\n",
    "print(\"And there we have the numbers\",Nums)\n",
    "print(\"\"\" \n",
    "And this form we can write any thing\n",
    "in diferents spaces\n",
    "like this\"\"\")"
   ]
  },
  {
   "cell_type": "markdown",
   "metadata": {},
   "source": [
    "# <font color=\"#000080\">Exercise 10 What Was That?\n",
    "There are various ”escape sequences” available for different characters you might want to use. We’ll try a few of these sequences so you can see what I mean.\n",
    "An important escape sequence is to escape a single-quote ' or double-quote \". Imagine you have a\n",
    "string that uses double-quotes and you want to put a double-quote inside the string. "
   ]
  },
  {
   "attachments": {
    "Tabla.png": {
     "image/png": "[encoded data removed]"
    }
   },
   "cell_type": "markdown",
   "metadata": {},
   "source": [
    "Escape Sequences\n",
    "This is all of the escape sequences Python supports. You may not use many of these, but memorize their\n",
    "format and what they do anyway. Try them out in some strings to see if you can make them work.\n",
    "Escape What it does.\n",
    "![Tabla.png](attachment:Tabla.png)"
   ]
  },
  {
   "cell_type": "code",
   "execution_count": 67,
   "metadata": {},
   "outputs": [
    {
     "name": "stdout",
     "output_type": "stream",
     "text": [
      "\tI'm tabbed in.\n",
      "I'm split\n",
      "on a line.\n",
      "I'm \\ a \\ otaku.\n",
      "\n",
      "I'll do a list:\n",
      "\t* Anime\n",
      "\t* Series\n",
      "\t* Manga\n",
      "\t* Comics\n",
      "\n"
     ]
    }
   ],
   "source": [
    "chino = \"\\tI'm tabbed in.\"\n",
    "gerson = \"I'm split\\non a line.\"\n",
    "otaku = \"I'm \\\\ a \\\\ otaku.\"\n",
    "\n",
    "maer = \"\"\"\n",
    "I'll do a list:\n",
    "\\t* Anime\n",
    "\\t* Series\n",
    "\\t* Manga\\n\\t* Comics\n",
    "\"\"\"\n",
    "\n",
    "print(chino)\n",
    "print(gerson)\n",
    "print(otaku)\n",
    "print(maer)"
   ]
  }
 ],
 "metadata": {
  "kernelspec": {
   "display_name": "Python 3",
   "language": "python",
   "name": "python3"
  },
  "language_info": {
   "codemirror_mode": {
    "name": "ipython",
    "version": 3
   },
   "file_extension": ".py",
   "mimetype": "text/x-python",
   "name": "python",
   "nbconvert_exporter": "python",
   "pygments_lexer": "ipython3",
   "version": "3.7.3"
  }
 },
 "nbformat": 4,
 "nbformat_minor": 2
}
